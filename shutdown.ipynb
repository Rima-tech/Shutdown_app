{
 "cells": [
  {
   "cell_type": "code",
   "execution_count": 1,
   "id": "3f016aa5",
   "metadata": {},
   "outputs": [
    {
     "name": "stdout",
     "output_type": "stream",
     "text": [
      "Note: you may need to restart the kernel to use updated packages.\n"
     ]
    },
    {
     "name": "stderr",
     "output_type": "stream",
     "text": [
      "ERROR: Could not find a version that satisfies the requirement tkinter (from versions: none)\n",
      "ERROR: No matching distribution found for tkinter\n"
     ]
    }
   ],
   "source": [
    "pip install tkinter"
   ]
  },
  {
   "cell_type": "code",
   "execution_count": 2,
   "id": "2b6dfe26",
   "metadata": {},
   "outputs": [
    {
     "data": {
      "text/plain": [
       "8.6"
      ]
     },
     "execution_count": 2,
     "metadata": {},
     "output_type": "execute_result"
    }
   ],
   "source": [
    "import tkinter\n",
    "tkinter.TkVersion\n"
   ]
  },
  {
   "cell_type": "code",
   "execution_count": 2,
   "id": "a74a3cd4",
   "metadata": {},
   "outputs": [
    {
     "name": "stdout",
     "output_type": "stream",
     "text": [
      "Note: you may need to restart the kernel to use updated packages.\n"
     ]
    },
    {
     "name": "stderr",
     "output_type": "stream",
     "text": [
      "ERROR: Could not find a version that satisfies the requirement os (from versions: none)\n",
      "ERROR: No matching distribution found for os\n"
     ]
    }
   ],
   "source": [
    "pip install os"
   ]
  },
  {
   "cell_type": "code",
   "execution_count": null,
   "id": "271eced0",
   "metadata": {},
   "outputs": [],
   "source": [
    "from tkinter import *\n",
    "import os\n",
    "\n",
    "def restart():\n",
    "    os.system(\"Shutdown /r /t/ 1\")\n",
    "def restart_time():\n",
    "    os.system(\"Shutdown /r /t/ 30\")\n",
    "def logout():\n",
    "    os.system(\"Shutdown -l\")\n",
    "def shutdown():\n",
    "    os.system(\"Shutdown /s /t/ 1\")\n",
    "              \n",
    "\n",
    "st=Tk()\n",
    "st.title(\"Shut Down App\")\n",
    "st.geometry (\"500x500\")\n",
    "st.config(bg=\"red\")\n",
    "\n",
    "r_button= Button(st, text=\"Restart\", font=(\"Cambria\",20,\"bold\"),relief=RAISED, cursor=\"Plus\",activeforeground= \"red\",command=restart)\n",
    "r_button.place(x=150,y=60,height=50,width=200)\n",
    "\n",
    "rt_button= Button(st, text=\"Restart Time\", font=(\"Cambria\",20,\"bold\"),relief=RAISED, cursor=\"Plus\",activeforeground= \"red\",command=restart_time)\n",
    "rt_button.place(x=150,y=170,height=50,width=200)\n",
    "\n",
    "lg_button= Button(st, text=\"Log Out\", font=(\"Cambria\",20,\"bold\"),relief=RAISED, cursor=\"Plus\",activeforeground= \"red\",command=logout)\n",
    "lg_button.place(x=150,y=270,height=50,width=200)\n",
    "\n",
    "st_button= Button(st, text=\"Shut Down\", font=(\"Cambria\",20,\"bold\"),relief=RAISED, cursor=\"Plus\",activeforeground= \"red\",command=shutdown)\n",
    "st_button.place(x=150,y=370,height=50,width=200)\n",
    "\n",
    "\n",
    "st.mainloop()"
   ]
  },
  {
   "cell_type": "code",
   "execution_count": null,
   "id": "ae08e356",
   "metadata": {},
   "outputs": [],
   "source": []
  },
  {
   "cell_type": "code",
   "execution_count": null,
   "id": "1602c7c7",
   "metadata": {},
   "outputs": [],
   "source": []
  },
  {
   "cell_type": "code",
   "execution_count": null,
   "id": "65aa55d3",
   "metadata": {},
   "outputs": [],
   "source": []
  }
 ],
 "metadata": {
  "kernelspec": {
   "display_name": "Python 3 (ipykernel)",
   "language": "python",
   "name": "python3"
  },
  "language_info": {
   "codemirror_mode": {
    "name": "ipython",
    "version": 3
   },
   "file_extension": ".py",
   "mimetype": "text/x-python",
   "name": "python",
   "nbconvert_exporter": "python",
   "pygments_lexer": "ipython3",
   "version": "3.9.7"
  }
 },
 "nbformat": 4,
 "nbformat_minor": 5
}
